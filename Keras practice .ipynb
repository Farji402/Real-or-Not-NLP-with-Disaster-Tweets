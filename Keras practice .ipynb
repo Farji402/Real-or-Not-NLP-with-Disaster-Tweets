{
 "cells": [
  {
   "cell_type": "code",
   "execution_count": 42,
   "metadata": {},
   "outputs": [],
   "source": [
    "from tensorflow.keras.layers import Dense, Input, Embedding, Flatten\n",
    "from tensorflow.keras.models import Model\n",
    "from tensorflow.keras.utils import plot_model\n",
    "from tensorflow.keras.preprocessing.text import Tokenizer\n",
    "from tensorflow.keras.preprocessing.sequence import pad_sequences \n",
    "import matplotlib.pyplot as plt\n",
    "import numpy as np\n",
    "import pandas as pd"
   ]
  },
  {
   "cell_type": "code",
   "execution_count": 10,
   "metadata": {},
   "outputs": [],
   "source": [
    "input_tensor = Input(shape= (1,))\n",
    "output_tensor = Dense(1)(input_tensor)\n",
    "\n",
    "model = Model(input_tensor, output_tensor)\n",
    "model.compile(optimizer= 'adam', loss= 'mse')"
   ]
  },
  {
   "cell_type": "code",
   "execution_count": 11,
   "metadata": {},
   "outputs": [
    {
     "name": "stdout",
     "output_type": "stream",
     "text": [
      "Model: \"model_2\"\n",
      "_________________________________________________________________\n",
      "Layer (type)                 Output Shape              Param #   \n",
      "=================================================================\n",
      "input_3 (InputLayer)         [(None, 1)]               0         \n",
      "_________________________________________________________________\n",
      "dense_2 (Dense)              (None, 1)                 2         \n",
      "=================================================================\n",
      "Total params: 2\n",
      "Trainable params: 2\n",
      "Non-trainable params: 0\n",
      "_________________________________________________________________\n"
     ]
    }
   ],
   "source": [
    "model.summary()"
   ]
  },
  {
   "cell_type": "code",
   "execution_count": 31,
   "metadata": {},
   "outputs": [],
   "source": [
    "inp = (np.arange(0, 10000, 0.5)).reshape(20000,1)\n",
    "out = inp*5 + 10\n"
   ]
  },
  {
   "cell_type": "code",
   "execution_count": 33,
   "metadata": {},
   "outputs": [
    {
     "name": "stdout",
     "output_type": "stream",
     "text": [
      "Epoch 1/15\n",
      "3600/3600 [==============================] - 3s 861us/step - loss: 0.6434 - val_loss: 1.5259e-05\n",
      "Epoch 2/15\n",
      "3600/3600 [==============================] - 3s 857us/step - loss: 0.0975 - val_loss: 5.4932e-04\n",
      "Epoch 3/15\n",
      "3600/3600 [==============================] - 3s 870us/step - loss: 0.0978 - val_loss: 0.0000e+00\n",
      "Epoch 4/15\n",
      "3600/3600 [==============================] - 3s 895us/step - loss: 6.3046e-09 - val_loss: 0.0000e+00\n",
      "Epoch 5/15\n",
      "3600/3600 [==============================] - 4s 1ms/step - loss: 2.6949e-10 - val_loss: 0.0000e+00\n",
      "Epoch 6/15\n",
      "3600/3600 [==============================] - 3s 926us/step - loss: 5.4135e-12 - val_loss: 0.0000e+00\n",
      "Epoch 7/15\n",
      "3600/3600 [==============================] - 3s 921us/step - loss: 5.6187e-14 - val_loss: 0.0000e+00\n",
      "Epoch 8/15\n",
      "3600/3600 [==============================] - 3s 939us/step - loss: 0.4992 - val_loss: 0.0000e+00\n",
      "Epoch 9/15\n",
      "3600/3600 [==============================] - 3s 936us/step - loss: 6.7459e-08 - val_loss: 0.0000e+00\n",
      "Epoch 10/15\n",
      "3600/3600 [==============================] - 3s 920us/step - loss: 2.5513e-09 - val_loss: 0.0000e+00\n",
      "Epoch 11/15\n",
      "3600/3600 [==============================] - 4s 982us/step - loss: 8.6327e-11 - val_loss: 0.0000e+00\n",
      "Epoch 12/15\n",
      "3600/3600 [==============================] - 3s 909us/step - loss: 3.0553e-12 - val_loss: 0.0000e+00\n",
      "Epoch 13/15\n",
      "3600/3600 [==============================] - 3s 950us/step - loss: 4.2190e-14 - val_loss: 0.0000e+00\n",
      "Epoch 14/15\n",
      "3600/3600 [==============================] - 3s 916us/step - loss: 0.3589 - val_loss: 0.0000e+00\n",
      "Epoch 15/15\n",
      "3600/3600 [==============================] - 3s 910us/step - loss: 8.1002e-08 - val_loss: 0.0000e+00\n"
     ]
    },
    {
     "data": {
      "text/plain": [
       "<tensorflow.python.keras.callbacks.History at 0x194ec85aac8>"
      ]
     },
     "execution_count": 33,
     "metadata": {},
     "output_type": "execute_result"
    }
   ],
   "source": [
    "model.fit(inp, out, batch_size= 5,epochs= 15, validation_split= 0.1, verbose= True)"
   ]
  },
  {
   "cell_type": "code",
   "execution_count": 37,
   "metadata": {},
   "outputs": [
    {
     "data": {
      "text/plain": [
       "array([[20.000242]], dtype=float32)"
      ]
     },
     "execution_count": 37,
     "metadata": {},
     "output_type": "execute_result"
    }
   ],
   "source": [
    "model.predict([2])"
   ]
  },
  {
   "cell_type": "code",
   "execution_count": 44,
   "metadata": {},
   "outputs": [],
   "source": [
    "df = pd.DataFrame({'text':['aman is my name', 'saini is my last name']})"
   ]
  },
  {
   "cell_type": "code",
   "execution_count": 47,
   "metadata": {},
   "outputs": [],
   "source": [
    "tokenizer = Tokenizer()\n",
    "tokenizer.fit_on_texts(df['text'])\n",
    "seq = tokenizer.texts_to_sequences(df['text'])"
   ]
  },
  {
   "cell_type": "code",
   "execution_count": 49,
   "metadata": {},
   "outputs": [
    {
     "data": {
      "text/plain": [
       "{'is': 1, 'my': 2, 'name': 3, 'aman': 4, 'saini': 5, 'last': 6}"
      ]
     },
     "execution_count": 49,
     "metadata": {},
     "output_type": "execute_result"
    }
   ],
   "source": [
    "tokenizer.word_index"
   ]
  }
 ],
 "metadata": {
  "kernelspec": {
   "display_name": "Python 3",
   "language": "python",
   "name": "python3"
  },
  "language_info": {
   "codemirror_mode": {
    "name": "ipython",
    "version": 3
   },
   "file_extension": ".py",
   "mimetype": "text/x-python",
   "name": "python",
   "nbconvert_exporter": "python",
   "pygments_lexer": "ipython3",
   "version": "3.7.6"
  }
 },
 "nbformat": 4,
 "nbformat_minor": 4
}
